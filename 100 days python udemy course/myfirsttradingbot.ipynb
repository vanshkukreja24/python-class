{
 "cells": [
  {
   "cell_type": "markdown",
   "metadata": {},
   "source": [
    "### PYTHON ALGO TRADING BOT"
   ]
  },
  {
   "cell_type": "code",
   "execution_count": 2,
   "metadata": {},
   "outputs": [],
   "source": [
    "from datetime import datetime\n",
    "import yfinance as yf\n",
    "import time"
   ]
  },
  {
   "cell_type": "code",
   "execution_count": 3,
   "metadata": {},
   "outputs": [],
   "source": [
    "class MyTradingStratagy:\n",
    "    def __init__(self,name):\n",
    "        self.__name = name\n",
    "        \n",
    "    def generate_signal(self,price_data):\n",
    "        print(\"This Meathod is intened to be over ridden \")\n",
    "        return \"hold\"\n",
    "    \n",
    "    @property  # decorater\n",
    "    def name(self):\n",
    "        return self.__name\n",
    "    "
   ]
  },
  {
   "cell_type": "code",
   "execution_count": 4,
   "metadata": {},
   "outputs": [],
   "source": [
    "class MySmaTradingStratagy (MyTradingStratagy):\n",
    "    def __init__(self,swindow,lwindow ):\n",
    "        self.__swindow = swindow\n",
    "        self.__lwindow = lwindow\n",
    "        super().__init__(\"My Sma Trading Stratagy\")\n",
    "    \n",
    "    def generate_signal(self,price_data):\n",
    "        if len(price_data[-self.__lwindow:]) < self.__lwindow:\n",
    "            return \"hold\"\n",
    "        short_avg = sum(price_data[-self.__swindow:])/self.__swindow\n",
    "        long_avg = sum(price_data[-self.__lwindow:])/self.__lwindow\n",
    "        \n",
    "        if short_avg > long_avg:\n",
    "            return \"Buy\"\n",
    "        elif short_avg < long_avg:\n",
    "            return \"Sell\"\n",
    "        else:\n",
    "            return \"Hold\"\n",
    "    \n",
    "    @property  # decorater\n",
    "    def swindow(self):\n",
    "        return self.__swindow\n",
    "    \n",
    "    @property  # decorater\n",
    "    def lwindow(self):\n",
    "        return self.__lwindow    \n",
    "    \n",
    "        \n",
    "        "
   ]
  },
  {
   "cell_type": "code",
   "execution_count": 5,
   "metadata": {},
   "outputs": [],
   "source": [
    "class mytrade:\n",
    "    def __init__(self,stratagy_name,signal,amount):\n",
    "        self.__stratagy_name = stratagy_name\n",
    "        self.__signal = signal\n",
    "        self.__amount = amount\n",
    "        self.__timestamp = datetime.now()\n",
    "        \n",
    "    def execute (self):\n",
    "        print(f\" Executed {self.__signal} trade with the stratagy { self.__stratagy_name} with amount {self.__amount} at {self.__timestamp}\") \n",
    "        \n",
    "    @property  # decorater\n",
    "    def stratagy_name(self):\n",
    "        return self.__stratagy_name\n",
    "    \n",
    "    @property  # decorater\n",
    "    def signal(self):\n",
    "        return self.__signal \n",
    "    \n",
    "    @property  # decorater\n",
    "    def amount(self):\n",
    "        return self.__amount\n",
    "    \n",
    "    @property  # decorater\n",
    "    def timestamp(self):\n",
    "        return self.__timestamp \n",
    "        "
   ]
  },
  {
   "cell_type": "code",
   "execution_count": 6,
   "metadata": {},
   "outputs": [],
   "source": [
    "# MOCK TRADING API\n",
    "class MockTradingAPI:\n",
    "    def __init__(self,balance):\n",
    "        self.__balance = balance\n",
    "        \n",
    "    def place_order(self,trade,price):\n",
    "        if trade.signal == \"Buy\" and self.__balance >= trade.amount * price:\n",
    "            self.__balance -= trade.amount * price\n",
    "            print(f\"placed a buy trade at the {price} , Remaining balance is {self.__balance}\")\n",
    "        elif trade.signal == \"Sell\" :\n",
    "            self.__balance += trade.amount * price\n",
    "            print(f\"placed a Sell trade at the {price} , Remaining balance is {self.__balance}\")\n",
    "        else:\n",
    "            print(\"Insufficient balance or invalide signal \")\n",
    "            \n",
    "    @property  # decorater\n",
    "    def balance(self):\n",
    "        return self.__balance"
   ]
  },
  {
   "cell_type": "code",
   "execution_count": 7,
   "metadata": {},
   "outputs": [],
   "source": [
    "class MyTradingSystem:\n",
    "    def __init__(self,api,stratagy,symbol):\n",
    "        self.__stratagy = stratagy\n",
    "        self.__symbol = symbol\n",
    "        self.__api = api\n",
    "        self.__price_data = []\n",
    "        \n",
    "    def fetch_price_data(self):\n",
    "        data = yf.download(tickers = self.__symbol,period=\"1d\",interval=\"1m\")\n",
    "        if not data.empty:\n",
    "            price = data['Close'].iloc[-1]\n",
    "            self.__price_data.append(price)\n",
    "            if len(self.__price_data) > self.__stratagy.lwindow:\n",
    "                self.__stratagy.lwindow.pop(0)\n",
    "                print(f\"fetched new price data : {price}\")\n",
    "            else:\n",
    "                print(\"no data fetched\")\n",
    "                \n",
    "    def run(self):\n",
    "        self.fetch_price_data()\n",
    "        signal = self.__stratagy.generate_signal(self.__price_data)\n",
    "        print(f\"Generated Signal {signal}\")\n",
    "        if signal in [\"Buy\",\"Sell\"]:\n",
    "            trade = mytrade(self.__stratagy,signal,1)\n",
    "            trade.execute()\n",
    "            self.__api.place_order(trade,self.__price_data[-1])\n",
    "            \n",
    "    \n",
    "    @property  # decorater\n",
    "    def stratagy_name(self):\n",
    "        return self.__stratagy_name\n",
    "    \n",
    "    @property  # decorater\n",
    "    def symbol(self):\n",
    "        return self.__symbol\n",
    "    \n",
    "    @property  # decorater\n",
    "    def api(self):\n",
    "        return self.__api\n",
    "    \n",
    "    @property  # decorater\n",
    "    def balance(self):\n",
    "        return self.__price_data    "
   ]
  },
  {
   "cell_type": "code",
   "execution_count": 8,
   "metadata": {},
   "outputs": [
    {
     "name": "stderr",
     "output_type": "stream",
     "text": [
      "[*********************100%***********************]  1 of 1 completed\n"
     ]
    },
    {
     "name": "stdout",
     "output_type": "stream",
     "text": [
      "no data fetched\n",
      "Generated Signal hold\n",
      "Remaning Balance 10000\n"
     ]
    },
    {
     "name": "stderr",
     "output_type": "stream",
     "text": [
      "[*********************100%***********************]  1 of 1 completed\n"
     ]
    },
    {
     "name": "stdout",
     "output_type": "stream",
     "text": [
      "no data fetched\n",
      "Generated Signal hold\n",
      "Remaning Balance 10000\n"
     ]
    },
    {
     "name": "stderr",
     "output_type": "stream",
     "text": [
      "[*********************100%***********************]  1 of 1 completed\n"
     ]
    },
    {
     "name": "stdout",
     "output_type": "stream",
     "text": [
      "no data fetched\n",
      "Generated Signal hold\n",
      "Remaning Balance 10000\n"
     ]
    }
   ],
   "source": [
    "symbol = \"AAPL\"\n",
    "api = MockTradingAPI(10000)\n",
    "stratagy = MySmaTradingStratagy(3,5)\n",
    "system = MyTradingSystem(api,stratagy,symbol)\n",
    "\n",
    "for _ in range(3):\n",
    "    system.run()\n",
    "    print(f\"Remaning Balance {api.balance}\")\n",
    "    time.sleep(2)\n"
   ]
  },
  {
   "cell_type": "code",
   "execution_count": null,
   "metadata": {},
   "outputs": [],
   "source": []
  },
  {
   "cell_type": "code",
   "execution_count": null,
   "metadata": {},
   "outputs": [],
   "source": []
  },
  {
   "cell_type": "code",
   "execution_count": null,
   "metadata": {},
   "outputs": [],
   "source": []
  },
  {
   "cell_type": "code",
   "execution_count": null,
   "metadata": {},
   "outputs": [],
   "source": []
  },
  {
   "cell_type": "code",
   "execution_count": null,
   "metadata": {},
   "outputs": [],
   "source": []
  },
  {
   "cell_type": "code",
   "execution_count": null,
   "metadata": {},
   "outputs": [],
   "source": []
  },
  {
   "cell_type": "code",
   "execution_count": null,
   "metadata": {},
   "outputs": [],
   "source": []
  },
  {
   "cell_type": "code",
   "execution_count": null,
   "metadata": {},
   "outputs": [],
   "source": []
  },
  {
   "cell_type": "code",
   "execution_count": null,
   "metadata": {},
   "outputs": [],
   "source": []
  },
  {
   "cell_type": "code",
   "execution_count": null,
   "metadata": {},
   "outputs": [],
   "source": []
  },
  {
   "cell_type": "code",
   "execution_count": null,
   "metadata": {},
   "outputs": [],
   "source": []
  },
  {
   "cell_type": "code",
   "execution_count": null,
   "metadata": {},
   "outputs": [],
   "source": []
  },
  {
   "cell_type": "code",
   "execution_count": null,
   "metadata": {},
   "outputs": [],
   "source": []
  }
 ],
 "metadata": {
  "kernelspec": {
   "display_name": "Python 3",
   "language": "python",
   "name": "python3"
  },
  "language_info": {
   "codemirror_mode": {
    "name": "ipython",
    "version": 3
   },
   "file_extension": ".py",
   "mimetype": "text/x-python",
   "name": "python",
   "nbconvert_exporter": "python",
   "pygments_lexer": "ipython3",
   "version": "3.12.6"
  }
 },
 "nbformat": 4,
 "nbformat_minor": 2
}
